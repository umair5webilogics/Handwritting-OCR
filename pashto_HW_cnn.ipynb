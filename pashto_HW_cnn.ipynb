{
  "cells": [
    {
      "cell_type": "markdown",
      "metadata": {
        "id": "Ekqmj8E1ZWxs"
      },
      "source": [
        "## Pashto Hand Writing Using CNN"
      ]
    },
    {
      "cell_type": "code",
      "execution_count": 1,
      "metadata": {
        "id": "yqOkckusVG4F"
      },
      "outputs": [],
      "source": [
        "import pandas as pd\n",
        "import numpy as np\n",
        "import matplotlib.pyplot as plt\n",
        "import cv2"
      ]
    },
    {
      "cell_type": "code",
      "execution_count": 6,
      "metadata": {
        "colab": {
          "base_uri": "https://localhost:8080/",
          "height": 299
        },
        "id": "fXKoqzAcVYX3",
        "outputId": "c7dd7e03-b2fd-4695-dea1-4a8fb8174ac2"
      },
      "outputs": [
        {
          "data": {
            "text/html": [
              "\n",
              "  <div id=\"df-3ce2960d-9ae6-4b42-acff-bb072902d226\">\n",
              "    <div class=\"colab-df-container\">\n",
              "      <div>\n",
              "<style scoped>\n",
              "    .dataframe tbody tr th:only-of-type {\n",
              "        vertical-align: middle;\n",
              "    }\n",
              "\n",
              "    .dataframe tbody tr th {\n",
              "        vertical-align: top;\n",
              "    }\n",
              "\n",
              "    .dataframe thead th {\n",
              "        text-align: right;\n",
              "    }\n",
              "</style>\n",
              "<table border=\"1\" class=\"dataframe\">\n",
              "  <thead>\n",
              "    <tr style=\"text-align: right;\">\n",
              "      <th></th>\n",
              "      <th>Label</th>\n",
              "      <th>Pixel0</th>\n",
              "      <th>Pixel1</th>\n",
              "      <th>Pixel2</th>\n",
              "      <th>Pixel3</th>\n",
              "      <th>Pixel4</th>\n",
              "      <th>Pixel5</th>\n",
              "      <th>Pixel6</th>\n",
              "      <th>Pixel7</th>\n",
              "      <th>Pixel8</th>\n",
              "      <th>...</th>\n",
              "      <th>Pixel1014</th>\n",
              "      <th>Pixel1015</th>\n",
              "      <th>Pixel1016</th>\n",
              "      <th>Pixel1017</th>\n",
              "      <th>Pixel1018</th>\n",
              "      <th>Pixel1019</th>\n",
              "      <th>Pixel1020</th>\n",
              "      <th>Pixel1021</th>\n",
              "      <th>Pixel1022</th>\n",
              "      <th>Pixel1023</th>\n",
              "    </tr>\n",
              "  </thead>\n",
              "  <tbody>\n",
              "    <tr>\n",
              "      <th>0</th>\n",
              "      <td>yay</td>\n",
              "      <td>0</td>\n",
              "      <td>0</td>\n",
              "      <td>0</td>\n",
              "      <td>0</td>\n",
              "      <td>0</td>\n",
              "      <td>0</td>\n",
              "      <td>0</td>\n",
              "      <td>0</td>\n",
              "      <td>0</td>\n",
              "      <td>...</td>\n",
              "      <td>0.0</td>\n",
              "      <td>0.0</td>\n",
              "      <td>0.0</td>\n",
              "      <td>0.0</td>\n",
              "      <td>0.0</td>\n",
              "      <td>0.0</td>\n",
              "      <td>0.0</td>\n",
              "      <td>0.0</td>\n",
              "      <td>0.0</td>\n",
              "      <td>0.0</td>\n",
              "    </tr>\n",
              "    <tr>\n",
              "      <th>1</th>\n",
              "      <td>yay</td>\n",
              "      <td>0</td>\n",
              "      <td>0</td>\n",
              "      <td>0</td>\n",
              "      <td>0</td>\n",
              "      <td>0</td>\n",
              "      <td>0</td>\n",
              "      <td>0</td>\n",
              "      <td>0</td>\n",
              "      <td>0</td>\n",
              "      <td>...</td>\n",
              "      <td>0.0</td>\n",
              "      <td>0.0</td>\n",
              "      <td>0.0</td>\n",
              "      <td>0.0</td>\n",
              "      <td>0.0</td>\n",
              "      <td>0.0</td>\n",
              "      <td>0.0</td>\n",
              "      <td>0.0</td>\n",
              "      <td>0.0</td>\n",
              "      <td>0.0</td>\n",
              "    </tr>\n",
              "    <tr>\n",
              "      <th>2</th>\n",
              "      <td>yay</td>\n",
              "      <td>0</td>\n",
              "      <td>0</td>\n",
              "      <td>0</td>\n",
              "      <td>0</td>\n",
              "      <td>0</td>\n",
              "      <td>0</td>\n",
              "      <td>0</td>\n",
              "      <td>0</td>\n",
              "      <td>0</td>\n",
              "      <td>...</td>\n",
              "      <td>0.0</td>\n",
              "      <td>0.0</td>\n",
              "      <td>0.0</td>\n",
              "      <td>0.0</td>\n",
              "      <td>0.0</td>\n",
              "      <td>0.0</td>\n",
              "      <td>0.0</td>\n",
              "      <td>0.0</td>\n",
              "      <td>0.0</td>\n",
              "      <td>0.0</td>\n",
              "    </tr>\n",
              "    <tr>\n",
              "      <th>3</th>\n",
              "      <td>yay</td>\n",
              "      <td>0</td>\n",
              "      <td>0</td>\n",
              "      <td>0</td>\n",
              "      <td>0</td>\n",
              "      <td>0</td>\n",
              "      <td>0</td>\n",
              "      <td>0</td>\n",
              "      <td>0</td>\n",
              "      <td>0</td>\n",
              "      <td>...</td>\n",
              "      <td>0.0</td>\n",
              "      <td>0.0</td>\n",
              "      <td>0.0</td>\n",
              "      <td>0.0</td>\n",
              "      <td>0.0</td>\n",
              "      <td>0.0</td>\n",
              "      <td>0.0</td>\n",
              "      <td>0.0</td>\n",
              "      <td>0.0</td>\n",
              "      <td>0.0</td>\n",
              "    </tr>\n",
              "    <tr>\n",
              "      <th>4</th>\n",
              "      <td>yay</td>\n",
              "      <td>0</td>\n",
              "      <td>0</td>\n",
              "      <td>0</td>\n",
              "      <td>0</td>\n",
              "      <td>0</td>\n",
              "      <td>0</td>\n",
              "      <td>0</td>\n",
              "      <td>0</td>\n",
              "      <td>0</td>\n",
              "      <td>...</td>\n",
              "      <td>0.0</td>\n",
              "      <td>0.0</td>\n",
              "      <td>0.0</td>\n",
              "      <td>0.0</td>\n",
              "      <td>0.0</td>\n",
              "      <td>0.0</td>\n",
              "      <td>0.0</td>\n",
              "      <td>0.0</td>\n",
              "      <td>0.0</td>\n",
              "      <td>0.0</td>\n",
              "    </tr>\n",
              "  </tbody>\n",
              "</table>\n",
              "<p>5 rows × 1025 columns</p>\n",
              "</div>\n",
              "      <button class=\"colab-df-convert\" onclick=\"convertToInteractive('df-3ce2960d-9ae6-4b42-acff-bb072902d226')\"\n",
              "              title=\"Convert this dataframe to an interactive table.\"\n",
              "              style=\"display:none;\">\n",
              "        \n",
              "  <svg xmlns=\"http://www.w3.org/2000/svg\" height=\"24px\"viewBox=\"0 0 24 24\"\n",
              "       width=\"24px\">\n",
              "    <path d=\"M0 0h24v24H0V0z\" fill=\"none\"/>\n",
              "    <path d=\"M18.56 5.44l.94 2.06.94-2.06 2.06-.94-2.06-.94-.94-2.06-.94 2.06-2.06.94zm-11 1L8.5 8.5l.94-2.06 2.06-.94-2.06-.94L8.5 2.5l-.94 2.06-2.06.94zm10 10l.94 2.06.94-2.06 2.06-.94-2.06-.94-.94-2.06-.94 2.06-2.06.94z\"/><path d=\"M17.41 7.96l-1.37-1.37c-.4-.4-.92-.59-1.43-.59-.52 0-1.04.2-1.43.59L10.3 9.45l-7.72 7.72c-.78.78-.78 2.05 0 2.83L4 21.41c.39.39.9.59 1.41.59.51 0 1.02-.2 1.41-.59l7.78-7.78 2.81-2.81c.8-.78.8-2.07 0-2.86zM5.41 20L4 18.59l7.72-7.72 1.47 1.35L5.41 20z\"/>\n",
              "  </svg>\n",
              "      </button>\n",
              "      \n",
              "  <style>\n",
              "    .colab-df-container {\n",
              "      display:flex;\n",
              "      flex-wrap:wrap;\n",
              "      gap: 12px;\n",
              "    }\n",
              "\n",
              "    .colab-df-convert {\n",
              "      background-color: #E8F0FE;\n",
              "      border: none;\n",
              "      border-radius: 50%;\n",
              "      cursor: pointer;\n",
              "      display: none;\n",
              "      fill: #1967D2;\n",
              "      height: 32px;\n",
              "      padding: 0 0 0 0;\n",
              "      width: 32px;\n",
              "    }\n",
              "\n",
              "    .colab-df-convert:hover {\n",
              "      background-color: #E2EBFA;\n",
              "      box-shadow: 0px 1px 2px rgba(60, 64, 67, 0.3), 0px 1px 3px 1px rgba(60, 64, 67, 0.15);\n",
              "      fill: #174EA6;\n",
              "    }\n",
              "\n",
              "    [theme=dark] .colab-df-convert {\n",
              "      background-color: #3B4455;\n",
              "      fill: #D2E3FC;\n",
              "    }\n",
              "\n",
              "    [theme=dark] .colab-df-convert:hover {\n",
              "      background-color: #434B5C;\n",
              "      box-shadow: 0px 1px 3px 1px rgba(0, 0, 0, 0.15);\n",
              "      filter: drop-shadow(0px 1px 2px rgba(0, 0, 0, 0.3));\n",
              "      fill: #FFFFFF;\n",
              "    }\n",
              "  </style>\n",
              "\n",
              "      <script>\n",
              "        const buttonEl =\n",
              "          document.querySelector('#df-3ce2960d-9ae6-4b42-acff-bb072902d226 button.colab-df-convert');\n",
              "        buttonEl.style.display =\n",
              "          google.colab.kernel.accessAllowed ? 'block' : 'none';\n",
              "\n",
              "        async function convertToInteractive(key) {\n",
              "          const element = document.querySelector('#df-3ce2960d-9ae6-4b42-acff-bb072902d226');\n",
              "          const dataTable =\n",
              "            await google.colab.kernel.invokeFunction('convertToInteractive',\n",
              "                                                     [key], {});\n",
              "          if (!dataTable) return;\n",
              "\n",
              "          const docLinkHtml = 'Like what you see? Visit the ' +\n",
              "            '<a target=\"_blank\" href=https://colab.research.google.com/notebooks/data_table.ipynb>data table notebook</a>'\n",
              "            + ' to learn more about interactive tables.';\n",
              "          element.innerHTML = '';\n",
              "          dataTable['output_type'] = 'display_data';\n",
              "          await google.colab.output.renderOutput(dataTable, element);\n",
              "          const docLink = document.createElement('div');\n",
              "          docLink.innerHTML = docLinkHtml;\n",
              "          element.appendChild(docLink);\n",
              "        }\n",
              "      </script>\n",
              "    </div>\n",
              "  </div>\n",
              "  "
            ],
            "text/plain": [
              "  Label  Pixel0  Pixel1  Pixel2  Pixel3  Pixel4  Pixel5  Pixel6  Pixel7  \\\n",
              "0   yay       0       0       0       0       0       0       0       0   \n",
              "1   yay       0       0       0       0       0       0       0       0   \n",
              "2   yay       0       0       0       0       0       0       0       0   \n",
              "3   yay       0       0       0       0       0       0       0       0   \n",
              "4   yay       0       0       0       0       0       0       0       0   \n",
              "\n",
              "   Pixel8  ...  Pixel1014  Pixel1015  Pixel1016  Pixel1017  Pixel1018  \\\n",
              "0       0  ...        0.0        0.0        0.0        0.0        0.0   \n",
              "1       0  ...        0.0        0.0        0.0        0.0        0.0   \n",
              "2       0  ...        0.0        0.0        0.0        0.0        0.0   \n",
              "3       0  ...        0.0        0.0        0.0        0.0        0.0   \n",
              "4       0  ...        0.0        0.0        0.0        0.0        0.0   \n",
              "\n",
              "   Pixel1019  Pixel1020  Pixel1021  Pixel1022  Pixel1023  \n",
              "0        0.0        0.0        0.0        0.0        0.0  \n",
              "1        0.0        0.0        0.0        0.0        0.0  \n",
              "2        0.0        0.0        0.0        0.0        0.0  \n",
              "3        0.0        0.0        0.0        0.0        0.0  \n",
              "4        0.0        0.0        0.0        0.0        0.0  \n",
              "\n",
              "[5 rows x 1025 columns]"
            ]
          },
          "execution_count": 6,
          "metadata": {},
          "output_type": "execute_result"
        }
      ],
      "source": [
        "# Read the second dataset\n",
        "df = pd.read_csv('pashto_chrs_printed.csv')\n",
        "df.head()"
      ]
    },
    {
      "cell_type": "code",
      "execution_count": 7,
      "metadata": {
        "colab": {
          "base_uri": "https://localhost:8080/"
        },
        "id": "xYZWGVcDVlxY",
        "outputId": "3bc6b4c4-cbec-4cd6-c2d5-50639566e700"
      },
      "outputs": [
        {
          "data": {
            "text/plain": [
              "(2127, 1025)"
            ]
          },
          "execution_count": 7,
          "metadata": {},
          "output_type": "execute_result"
        }
      ],
      "source": [
        "df.shape"
      ]
    },
    {
      "cell_type": "code",
      "execution_count": 8,
      "metadata": {
        "colab": {
          "base_uri": "https://localhost:8080/"
        },
        "id": "OyXxpV_uVwE5",
        "outputId": "ce98221d-3426-4111-8c11-45b9dd8c2eb3"
      },
      "outputs": [
        {
          "data": {
            "text/plain": [
              "Index(['Label', 'Pixel0', 'Pixel1', 'Pixel2', 'Pixel3', 'Pixel4', 'Pixel5',\n",
              "       'Pixel6', 'Pixel7', 'Pixel8',\n",
              "       ...\n",
              "       'Pixel1014', 'Pixel1015', 'Pixel1016', 'Pixel1017', 'Pixel1018',\n",
              "       'Pixel1019', 'Pixel1020', 'Pixel1021', 'Pixel1022', 'Pixel1023'],\n",
              "      dtype='object', length=1025)"
            ]
          },
          "execution_count": 8,
          "metadata": {},
          "output_type": "execute_result"
        }
      ],
      "source": [
        "column = df.columns\n",
        "column"
      ]
    },
    {
      "cell_type": "code",
      "execution_count": 9,
      "metadata": {
        "id": "MUm9dPIrVx_J"
      },
      "outputs": [],
      "source": [
        "label = df[column[0]].values\n",
        "images = df[column[1:]].values"
      ]
    },
    {
      "cell_type": "code",
      "execution_count": 10,
      "metadata": {
        "colab": {
          "base_uri": "https://localhost:8080/"
        },
        "id": "ERnStGO2Vz4G",
        "outputId": "f077ae55-560c-4f55-eb4d-c0d19c021bd5"
      },
      "outputs": [
        {
          "data": {
            "text/plain": [
              "(array(['yay', 'yay', 'yay', ..., 'zaal', 'zaal', 'zaal'], dtype=object),\n",
              " array([[ 0.,  0.,  0., ...,  0.,  0.,  0.],\n",
              "        [ 0.,  0.,  0., ...,  0.,  0.,  0.],\n",
              "        [ 0.,  0.,  0., ...,  0.,  0.,  0.],\n",
              "        ...,\n",
              "        [ 0.,  0.,  0., ...,  0.,  0.,  0.],\n",
              "        [ 0.,  0.,  0., ...,  0.,  0.,  0.],\n",
              "        [ 0.,  0.,  0., ..., nan, nan, nan]]))"
            ]
          },
          "execution_count": 10,
          "metadata": {},
          "output_type": "execute_result"
        }
      ],
      "source": [
        "label, images"
      ]
    },
    {
      "cell_type": "code",
      "execution_count": 11,
      "metadata": {
        "id": "CCbsCh0HV5qP"
      },
      "outputs": [],
      "source": [
        "import os\n",
        "for i, (lab, img) in enumerate(zip(label, images)):\n",
        "    img = img.reshape(32, 32)\n",
        "    if os.path.exists('dataset/{}'.format(lab)):\n",
        "        cv2.imwrite('dataset/{}/{}.jpg'.format(lab, i), img)\n",
        "    else:\n",
        "        os.makedirs('dataset/{}'.format(lab))\n",
        "        cv2.imwrite('dataset/{}/{}.jpg'.format(lab, i), img)"
      ]
    },
    {
      "cell_type": "code",
      "execution_count": 12,
      "metadata": {
        "colab": {
          "base_uri": "https://localhost:8080/",
          "height": 283
        },
        "id": "qyNdnseIV95P",
        "outputId": "df9b25e2-f0d4-45da-a6c2-56a800553e36"
      },
      "outputs": [
        {
          "data": {
            "text/plain": [
              "<matplotlib.image.AxesImage at 0x7f6e2b845d50>"
            ]
          },
          "execution_count": 12,
          "metadata": {},
          "output_type": "execute_result"
        },
        {
          "data": {
            "image/png": "[encoded data removed]",
            "text/plain": [
              "<Figure size 432x288 with 1 Axes>"
            ]
          },
          "metadata": {
            "needs_background": "light"
          },
          "output_type": "display_data"
        }
      ],
      "source": [
        "img = cv2.imread('dataset/alif/57.jpg')\n",
        "plt.imshow(img)"
      ]
    },
    {
      "cell_type": "markdown",
      "metadata": {
        "id": "3lxsrPQhaD5G"
      },
      "source": [
        "## Build CNN Model"
      ]
    },
    {
      "cell_type": "code",
      "execution_count": 13,
      "metadata": {
        "id": "2ItqNu_ZWEf4"
      },
      "outputs": [],
      "source": [
        "from keras.models import Sequential, Model\n",
        "from tensorflow_keras.layers import BatchNormalization\n",
        "from keras.layers.core import Activation\n",
        "from keras.layers.core import Flatten\n",
        "from keras.layers.core import Dropout\n",
        "from keras.layers.core import Dense\n",
        "from keras.layers import Conv2D, MaxPooling2D\n",
        "from keras import layers\n",
        "\n",
        "def model(num_classes, input_shape):\n",
        "    model = Sequential()\n",
        "    # 1st Convolutional Layer\n",
        "    model.add(Conv2D(filters=96, input_shape=input_shape, kernel_size=(11,11), strides=(4,4), padding='valid'))\n",
        "    model.add(Activation('relu'))\n",
        "    # Max Pooling\n",
        "    model.add(MaxPooling2D(pool_size=(3,3), strides=(2,2), padding='valid'))\n",
        "    # 2nd Convolutional Layer\n",
        "    model.add(Conv2D(filters=256, kernel_size=(5,5), strides=(1,1), padding='same'))\n",
        "    model.add(Activation('relu'))\n",
        "    # Max Pooling\n",
        "    model.add(MaxPooling2D(pool_size=(3,3), strides=(2,2), padding='valid'))\n",
        "    # 3rd Convolutional Layer\n",
        "    model.add(Conv2D(filters=384, kernel_size=(3,3), strides=(1,1), padding='same'))\n",
        "    model.add(Activation('relu'))\n",
        "    # 4th Convolutional Layer\n",
        "    model.add(Conv2D(filters=384, kernel_size=(3,3), strides=(1,1), padding='same'))\n",
        "    model.add(Activation('relu'))\n",
        "    # 5th Convolutional Layer\n",
        "    model.add(Conv2D(filters=256, kernel_size=(3,3), strides=(1,1), padding='same'))\n",
        "    model.add(Activation('relu'))\n",
        "    # Max Pooling\n",
        "    model.add(MaxPooling2D(pool_size=(3,3), strides=(2,2), padding='valid'))\n",
        "    # Passing it to a Fully Connected layer\n",
        "    model.add(Flatten())\n",
        "    # 1st Fully Connected Layer\n",
        "    model.add(Dense(4096))\n",
        "    model.add(Activation('relu'))\n",
        "    # Add Dropout to prevent overfitting\n",
        "    model.add(Dropout(0.5))\n",
        "    # 2nd Fully Connected Layer\n",
        "    model.add(Dense(4096))\n",
        "    model.add(Activation('relu'))\n",
        "    # Add Dropout to prevent overfitting\n",
        "    model.add(Dropout(0.5))\n",
        "    # Output Layer\n",
        "    model.add(Dense(num_classes))\n",
        "    model.add(Activation('softmax'))\n",
        "    return model"
      ]
    },
    {
      "cell_type": "code",
      "execution_count": 39,
      "metadata": {
        "id": "y31-ANeXWF4a"
      },
      "outputs": [],
      "source": [
        "from keras.preprocessing.image import ImageDataGenerator\n",
        "from keras.optimizers import Adam\n",
        "from keras.callbacks import ReduceLROnPlateau\n",
        "import os\n",
        "# Define constants\n",
        "DATASET_PATH = './dataset/'\n",
        "MODEL_PATH = '.'\n",
        "BATCH_SIZE = 128\n",
        "EPOCHS = 100\n",
        "TARGET_WIDTH = 128\n",
        "TARGET_HEIGHT = 128\n",
        "TARGET_DEPTH = 3"
      ]
    },
    {
      "cell_type": "code",
      "execution_count": 40,
      "metadata": {
        "colab": {
          "base_uri": "https://localhost:8080/"
        },
        "id": "Hf6gHdh1WHj1",
        "outputId": "b7829e7b-b72a-469c-8b7c-c99ee23f4f90"
      },
      "outputs": [
        {
          "name": "stdout",
          "output_type": "stream",
          "text": [
            "[INFO] Setting up Data Generator...\n",
            "Found 1720 images belonging to 37 classes.\n",
            "Found 407 images belonging to 37 classes.\n"
          ]
        }
      ],
      "source": [
        "# Set up the data generator to flow data from disk\n",
        "print(\"[INFO] Setting up Data Generator...\")\n",
        "data_gen = ImageDataGenerator(validation_split=0.2, rescale=1./255)\n",
        "train_generator = data_gen.flow_from_directory(\n",
        "    DATASET_PATH, \n",
        "    subset='training',\n",
        "    target_size = (TARGET_WIDTH, TARGET_HEIGHT),\n",
        "    batch_size = BATCH_SIZE\n",
        ")\n",
        "val_generator = data_gen.flow_from_directory(\n",
        "    DATASET_PATH,\n",
        "    subset='validation',\n",
        "    target_size = (TARGET_WIDTH, TARGET_HEIGHT),\n",
        "    batch_size = BATCH_SIZE\n",
        ")"
      ]
    },
    {
      "cell_type": "code",
      "execution_count": 41,
      "metadata": {
        "colab": {
          "base_uri": "https://localhost:8080/"
        },
        "id": "rdzfj-ndWJRd",
        "outputId": "9cc59c3d-6be6-4810-81e1-b3bc6e85cfc9"
      },
      "outputs": [
        {
          "name": "stdout",
          "output_type": "stream",
          "text": [
            "[INFO] Compiling model...\n"
          ]
        }
      ],
      "source": [
        "# Build model\n",
        "print(\"[INFO] Compiling model...\")\n",
        "alexnet = model(train_generator.num_classes, (TARGET_WIDTH, TARGET_HEIGHT, TARGET_DEPTH))\n",
        "# Compile the model\n",
        "alexnet.compile(optimizer='adam', loss='categorical_crossentropy', metrics=['accuracy'])"
      ]
    },
    {
      "cell_type": "code",
      "execution_count": 42,
      "metadata": {
        "id": "MlS1lg2dWLFq"
      },
      "outputs": [],
      "source": [
        "# Set the learning rate decay\n",
        "reduce_lr = ReduceLROnPlateau(monitor='loss', factor=0.2, patience=2, min_lr=0.001)"
      ]
    },
    {
      "cell_type": "code",
      "execution_count": 43,
      "metadata": {
        "colab": {
          "base_uri": "https://localhost:8080/"
        },
        "id": "a6bBOU9eWNp9",
        "outputId": "dd871164-3ce1-4d1a-e177-c016a41ba73a"
      },
      "outputs": [
        {
          "name": "stdout",
          "output_type": "stream",
          "text": [
            "[INFO] Training network ...\n",
            "Epoch 1/100\n"
          ]
        },
        {
          "name": "stderr",
          "output_type": "stream",
          "text": [
            "/usr/local/lib/python3.7/dist-packages/ipykernel_launcher.py:8: UserWarning: `Model.fit_generator` is deprecated and will be removed in a future version. Please use `Model.fit`, which supports generators.\n",
            "  \n"
          ]
        },
        {
          "name": "stdout",
          "output_type": "stream",
          "text": [
            "13/13 [==============================] - 2s 120ms/step - loss: 3.6976 - accuracy: 0.0239 - val_loss: 3.6112 - val_accuracy: 0.0312 - lr: 0.0010\n",
            "Epoch 2/100\n",
            "13/13 [==============================] - 1s 99ms/step - loss: 3.6113 - accuracy: 0.0192 - val_loss: 3.6102 - val_accuracy: 0.0260 - lr: 0.0010\n",
            "Epoch 3/100\n",
            "13/13 [==============================] - 1s 95ms/step - loss: 3.6108 - accuracy: 0.0239 - val_loss: 3.6091 - val_accuracy: 0.0234 - lr: 0.0010\n",
            "Epoch 4/100\n",
            "13/13 [==============================] - 1s 97ms/step - loss: 3.6095 - accuracy: 0.0226 - val_loss: 3.6068 - val_accuracy: 0.0286 - lr: 0.0010\n",
            "Epoch 5/100\n",
            "13/13 [==============================] - 1s 96ms/step - loss: 3.6088 - accuracy: 0.0333 - val_loss: 3.6021 - val_accuracy: 0.0365 - lr: 0.0010\n",
            "Epoch 6/100\n",
            "13/13 [==============================] - 1s 100ms/step - loss: 3.5731 - accuracy: 0.0276 - val_loss: 3.4676 - val_accuracy: 0.0599 - lr: 0.0010\n",
            "Epoch 7/100\n",
            "13/13 [==============================] - 1s 103ms/step - loss: 3.4956 - accuracy: 0.0465 - val_loss: 3.3910 - val_accuracy: 0.0885 - lr: 0.0010\n",
            "Epoch 8/100\n",
            "13/13 [==============================] - 1s 98ms/step - loss: 3.3379 - accuracy: 0.0741 - val_loss: 3.2743 - val_accuracy: 0.0859 - lr: 0.0010\n",
            "Epoch 9/100\n",
            "13/13 [==============================] - 2s 153ms/step - loss: 3.1490 - accuracy: 0.0835 - val_loss: 3.0652 - val_accuracy: 0.1120 - lr: 0.0010\n",
            "Epoch 10/100\n",
            "13/13 [==============================] - 2s 145ms/step - loss: 2.9353 - accuracy: 0.1175 - val_loss: 3.3333 - val_accuracy: 0.1120 - lr: 0.0010\n",
            "Epoch 11/100\n",
            "13/13 [==============================] - 1s 97ms/step - loss: 2.7457 - accuracy: 0.1495 - val_loss: 2.6503 - val_accuracy: 0.1797 - lr: 0.0010\n",
            "Epoch 12/100\n",
            "13/13 [==============================] - 1s 97ms/step - loss: 2.4112 - accuracy: 0.2157 - val_loss: 2.3858 - val_accuracy: 0.2578 - lr: 0.0010\n",
            "Epoch 13/100\n",
            "13/13 [==============================] - 1s 97ms/step - loss: 2.1088 - accuracy: 0.3015 - val_loss: 2.0123 - val_accuracy: 0.3333 - lr: 0.0010\n",
            "Epoch 14/100\n",
            "13/13 [==============================] - 1s 100ms/step - loss: 1.8692 - accuracy: 0.3618 - val_loss: 1.9609 - val_accuracy: 0.3828 - lr: 0.0010\n",
            "Epoch 15/100\n",
            "13/13 [==============================] - 1s 95ms/step - loss: 1.6791 - accuracy: 0.4108 - val_loss: 2.0166 - val_accuracy: 0.3880 - lr: 0.0010\n",
            "Epoch 16/100\n",
            "13/13 [==============================] - 1s 97ms/step - loss: 1.5524 - accuracy: 0.4799 - val_loss: 1.6570 - val_accuracy: 0.5000 - lr: 0.0010\n",
            "Epoch 17/100\n",
            "13/13 [==============================] - 1s 98ms/step - loss: 1.3153 - accuracy: 0.5477 - val_loss: 1.7220 - val_accuracy: 0.5234 - lr: 0.0010\n",
            "Epoch 18/100\n",
            "13/13 [==============================] - 1s 96ms/step - loss: 1.2004 - accuracy: 0.5791 - val_loss: 1.6183 - val_accuracy: 0.5286 - lr: 0.0010\n",
            "Epoch 19/100\n",
            "13/13 [==============================] - 1s 96ms/step - loss: 1.0706 - accuracy: 0.6495 - val_loss: 1.6844 - val_accuracy: 0.5417 - lr: 0.0010\n",
            "Epoch 20/100\n",
            "13/13 [==============================] - 1s 98ms/step - loss: 0.9670 - accuracy: 0.6822 - val_loss: 1.5578 - val_accuracy: 0.5703 - lr: 0.0010\n",
            "Epoch 21/100\n",
            "13/13 [==============================] - 1s 96ms/step - loss: 0.8760 - accuracy: 0.7242 - val_loss: 1.4513 - val_accuracy: 0.5859 - lr: 0.0010\n",
            "Epoch 22/100\n",
            "13/13 [==============================] - 1s 100ms/step - loss: 0.7701 - accuracy: 0.7560 - val_loss: 1.8918 - val_accuracy: 0.6042 - lr: 0.0010\n",
            "Epoch 23/100\n",
            "13/13 [==============================] - 1s 98ms/step - loss: 0.7188 - accuracy: 0.7839 - val_loss: 1.6439 - val_accuracy: 0.6068 - lr: 0.0010\n",
            "Epoch 24/100\n",
            "13/13 [==============================] - 1s 97ms/step - loss: 0.6953 - accuracy: 0.7883 - val_loss: 1.7541 - val_accuracy: 0.6094 - lr: 0.0010\n",
            "Epoch 25/100\n",
            "13/13 [==============================] - 1s 97ms/step - loss: 0.6753 - accuracy: 0.8034 - val_loss: 2.1462 - val_accuracy: 0.5964 - lr: 0.0010\n",
            "Epoch 26/100\n",
            "13/13 [==============================] - 1s 96ms/step - loss: 0.7044 - accuracy: 0.7877 - val_loss: 1.7064 - val_accuracy: 0.6172 - lr: 0.0010\n",
            "Epoch 27/100\n",
            "13/13 [==============================] - 1s 96ms/step - loss: 0.6625 - accuracy: 0.8072 - val_loss: 1.7671 - val_accuracy: 0.6328 - lr: 0.0010\n",
            "Epoch 28/100\n",
            "13/13 [==============================] - 1s 97ms/step - loss: 0.6168 - accuracy: 0.8203 - val_loss: 1.6536 - val_accuracy: 0.6380 - lr: 0.0010\n",
            "Epoch 29/100\n",
            "13/13 [==============================] - 1s 98ms/step - loss: 0.5472 - accuracy: 0.8442 - val_loss: 1.7797 - val_accuracy: 0.6615 - lr: 0.0010\n",
            "Epoch 30/100\n",
            "13/13 [==============================] - 1s 99ms/step - loss: 0.5347 - accuracy: 0.8518 - val_loss: 1.8639 - val_accuracy: 0.6562 - lr: 0.0010\n",
            "Epoch 31/100\n",
            "13/13 [==============================] - 1s 98ms/step - loss: 0.5540 - accuracy: 0.8474 - val_loss: 1.8511 - val_accuracy: 0.6641 - lr: 0.0010\n",
            "Epoch 32/100\n",
            "13/13 [==============================] - 1s 108ms/step - loss: 0.6115 - accuracy: 0.8273 - val_loss: 2.1790 - val_accuracy: 0.6120 - lr: 0.0010\n",
            "Epoch 33/100\n",
            "13/13 [==============================] - 1s 98ms/step - loss: 0.7061 - accuracy: 0.7908 - val_loss: 1.5944 - val_accuracy: 0.6484 - lr: 0.0010\n",
            "Epoch 34/100\n",
            "13/13 [==============================] - 1s 98ms/step - loss: 0.6032 - accuracy: 0.8251 - val_loss: 1.8160 - val_accuracy: 0.6224 - lr: 0.0010\n",
            "Epoch 35/100\n",
            "13/13 [==============================] - 1s 98ms/step - loss: 0.5480 - accuracy: 0.8448 - val_loss: 1.7154 - val_accuracy: 0.6875 - lr: 0.0010\n",
            "Epoch 36/100\n",
            "13/13 [==============================] - 1s 98ms/step - loss: 0.5484 - accuracy: 0.8474 - val_loss: 2.0083 - val_accuracy: 0.6667 - lr: 0.0010\n",
            "Epoch 37/100\n",
            "13/13 [==============================] - 1s 96ms/step - loss: 0.5212 - accuracy: 0.8536 - val_loss: 2.0103 - val_accuracy: 0.6510 - lr: 0.0010\n",
            "Epoch 38/100\n",
            "13/13 [==============================] - 1s 97ms/step - loss: 0.5367 - accuracy: 0.8518 - val_loss: 2.2100 - val_accuracy: 0.6172 - lr: 0.0010\n",
            "Epoch 39/100\n",
            "13/13 [==============================] - 1s 97ms/step - loss: 0.5510 - accuracy: 0.8474 - val_loss: 1.8054 - val_accuracy: 0.6667 - lr: 0.0010\n",
            "Epoch 40/100\n",
            "13/13 [==============================] - 1s 98ms/step - loss: 0.5201 - accuracy: 0.8511 - val_loss: 1.7000 - val_accuracy: 0.7057 - lr: 0.0010\n",
            "Epoch 41/100\n",
            "13/13 [==============================] - 1s 101ms/step - loss: 0.5323 - accuracy: 0.8511 - val_loss: 1.9558 - val_accuracy: 0.6719 - lr: 0.0010\n",
            "Epoch 42/100\n",
            "13/13 [==============================] - 1s 96ms/step - loss: 0.5896 - accuracy: 0.8323 - val_loss: 2.3295 - val_accuracy: 0.6510 - lr: 0.0010\n",
            "Epoch 43/100\n",
            "13/13 [==============================] - 1s 95ms/step - loss: 0.6538 - accuracy: 0.8260 - val_loss: 1.7274 - val_accuracy: 0.6484 - lr: 0.0010\n",
            "Epoch 44/100\n",
            "13/13 [==============================] - 1s 97ms/step - loss: 0.5435 - accuracy: 0.8518 - val_loss: 1.6257 - val_accuracy: 0.6719 - lr: 0.0010\n",
            "Epoch 45/100\n",
            "13/13 [==============================] - 1s 97ms/step - loss: 0.5111 - accuracy: 0.8580 - val_loss: 1.9090 - val_accuracy: 0.6849 - lr: 0.0010\n",
            "Epoch 46/100\n",
            "13/13 [==============================] - 1s 96ms/step - loss: 0.5124 - accuracy: 0.8580 - val_loss: 1.7017 - val_accuracy: 0.6875 - lr: 0.0010\n",
            "Epoch 47/100\n",
            "13/13 [==============================] - 1s 97ms/step - loss: 0.5129 - accuracy: 0.8574 - val_loss: 1.8112 - val_accuracy: 0.7031 - lr: 0.0010\n",
            "Epoch 48/100\n",
            "13/13 [==============================] - 1s 100ms/step - loss: 0.4952 - accuracy: 0.8624 - val_loss: 2.0893 - val_accuracy: 0.6693 - lr: 0.0010\n",
            "Epoch 49/100\n",
            "13/13 [==============================] - 1s 97ms/step - loss: 0.4948 - accuracy: 0.8593 - val_loss: 1.8203 - val_accuracy: 0.7109 - lr: 0.0010\n",
            "Epoch 50/100\n",
            "13/13 [==============================] - 1s 98ms/step - loss: 0.5251 - accuracy: 0.8536 - val_loss: 1.9395 - val_accuracy: 0.6562 - lr: 0.0010\n",
            "Epoch 51/100\n",
            "13/13 [==============================] - 1s 99ms/step - loss: 0.4983 - accuracy: 0.8580 - val_loss: 2.0134 - val_accuracy: 0.6615 - lr: 0.0010\n",
            "Epoch 52/100\n",
            "13/13 [==============================] - 1s 98ms/step - loss: 0.5114 - accuracy: 0.8580 - val_loss: 1.9268 - val_accuracy: 0.6927 - lr: 0.0010\n",
            "Epoch 53/100\n",
            "13/13 [==============================] - 1s 101ms/step - loss: 0.4966 - accuracy: 0.8612 - val_loss: 1.9748 - val_accuracy: 0.7005 - lr: 0.0010\n",
            "Epoch 54/100\n",
            "13/13 [==============================] - 1s 98ms/step - loss: 0.4861 - accuracy: 0.8642 - val_loss: 2.0976 - val_accuracy: 0.7109 - lr: 0.0010\n",
            "Epoch 55/100\n",
            "13/13 [==============================] - 1s 95ms/step - loss: 0.4962 - accuracy: 0.8612 - val_loss: 2.4696 - val_accuracy: 0.6432 - lr: 0.0010\n",
            "Epoch 56/100\n",
            "13/13 [==============================] - 1s 97ms/step - loss: 0.5015 - accuracy: 0.8599 - val_loss: 2.1911 - val_accuracy: 0.6927 - lr: 0.0010\n",
            "Epoch 57/100\n",
            "13/13 [==============================] - 1s 101ms/step - loss: 0.5052 - accuracy: 0.8562 - val_loss: 2.0224 - val_accuracy: 0.7109 - lr: 0.0010\n",
            "Epoch 58/100\n",
            "13/13 [==============================] - 1s 99ms/step - loss: 0.4905 - accuracy: 0.8643 - val_loss: 2.1238 - val_accuracy: 0.6927 - lr: 0.0010\n",
            "Epoch 59/100\n",
            "13/13 [==============================] - 1s 98ms/step - loss: 0.5007 - accuracy: 0.8637 - val_loss: 2.2584 - val_accuracy: 0.6979 - lr: 0.0010\n",
            "Epoch 60/100\n",
            "13/13 [==============================] - 1s 97ms/step - loss: 0.5342 - accuracy: 0.8530 - val_loss: 2.0875 - val_accuracy: 0.6927 - lr: 0.0010\n",
            "Epoch 61/100\n",
            "13/13 [==============================] - 1s 99ms/step - loss: 0.6043 - accuracy: 0.8354 - val_loss: 2.1350 - val_accuracy: 0.6276 - lr: 0.0010\n",
            "Epoch 62/100\n",
            "13/13 [==============================] - 1s 97ms/step - loss: 0.6181 - accuracy: 0.8329 - val_loss: 1.7128 - val_accuracy: 0.6849 - lr: 0.0010\n",
            "Epoch 63/100\n",
            "13/13 [==============================] - 1s 100ms/step - loss: 0.5977 - accuracy: 0.8304 - val_loss: 2.2552 - val_accuracy: 0.6406 - lr: 0.0010\n",
            "Epoch 64/100\n",
            "13/13 [==============================] - 2s 143ms/step - loss: 0.5898 - accuracy: 0.8398 - val_loss: 1.8286 - val_accuracy: 0.6745 - lr: 0.0010\n",
            "Epoch 65/100\n",
            "13/13 [==============================] - 1s 100ms/step - loss: 0.5363 - accuracy: 0.8486 - val_loss: 1.8567 - val_accuracy: 0.6901 - lr: 0.0010\n",
            "Epoch 66/100\n",
            "13/13 [==============================] - 1s 96ms/step - loss: 0.5178 - accuracy: 0.8549 - val_loss: 1.9316 - val_accuracy: 0.6797 - lr: 0.0010\n",
            "Epoch 67/100\n",
            "13/13 [==============================] - 1s 96ms/step - loss: 0.5233 - accuracy: 0.8511 - val_loss: 1.7925 - val_accuracy: 0.7266 - lr: 0.0010\n",
            "Epoch 68/100\n",
            "13/13 [==============================] - 1s 100ms/step - loss: 0.5076 - accuracy: 0.8600 - val_loss: 2.0685 - val_accuracy: 0.6901 - lr: 0.0010\n",
            "Epoch 69/100\n",
            "13/13 [==============================] - 1s 97ms/step - loss: 0.5052 - accuracy: 0.8593 - val_loss: 1.8164 - val_accuracy: 0.6953 - lr: 0.0010\n",
            "Epoch 70/100\n",
            "13/13 [==============================] - 1s 101ms/step - loss: 0.4918 - accuracy: 0.8631 - val_loss: 1.9068 - val_accuracy: 0.6953 - lr: 0.0010\n",
            "Epoch 71/100\n",
            "13/13 [==============================] - 1s 98ms/step - loss: 0.4969 - accuracy: 0.8631 - val_loss: 1.8441 - val_accuracy: 0.7214 - lr: 0.0010\n",
            "Epoch 72/100\n",
            "13/13 [==============================] - 1s 95ms/step - loss: 0.4957 - accuracy: 0.8612 - val_loss: 1.9846 - val_accuracy: 0.7083 - lr: 0.0010\n",
            "Epoch 73/100\n",
            "13/13 [==============================] - 2s 113ms/step - loss: 0.4899 - accuracy: 0.8631 - val_loss: 2.1603 - val_accuracy: 0.7031 - lr: 0.0010\n",
            "Epoch 74/100\n",
            "13/13 [==============================] - 1s 97ms/step - loss: 0.5072 - accuracy: 0.8568 - val_loss: 2.0339 - val_accuracy: 0.7083 - lr: 0.0010\n",
            "Epoch 75/100\n",
            "13/13 [==============================] - 1s 99ms/step - loss: 0.5039 - accuracy: 0.8593 - val_loss: 2.3367 - val_accuracy: 0.6641 - lr: 0.0010\n",
            "Epoch 76/100\n",
            "13/13 [==============================] - 1s 100ms/step - loss: 0.5658 - accuracy: 0.8436 - val_loss: 1.7379 - val_accuracy: 0.7057 - lr: 0.0010\n",
            "Epoch 77/100\n",
            "13/13 [==============================] - 1s 95ms/step - loss: 0.5234 - accuracy: 0.8562 - val_loss: 1.8603 - val_accuracy: 0.6719 - lr: 0.0010\n",
            "Epoch 78/100\n",
            "13/13 [==============================] - 1s 96ms/step - loss: 0.5089 - accuracy: 0.8562 - val_loss: 2.0365 - val_accuracy: 0.6953 - lr: 0.0010\n",
            "Epoch 79/100\n",
            "13/13 [==============================] - 1s 97ms/step - loss: 0.5005 - accuracy: 0.8593 - val_loss: 1.7282 - val_accuracy: 0.7318 - lr: 0.0010\n",
            "Epoch 80/100\n",
            "13/13 [==============================] - 1s 101ms/step - loss: 0.5051 - accuracy: 0.8624 - val_loss: 1.9945 - val_accuracy: 0.7109 - lr: 0.0010\n",
            "Epoch 81/100\n",
            "13/13 [==============================] - 1s 96ms/step - loss: 0.4981 - accuracy: 0.8599 - val_loss: 1.9214 - val_accuracy: 0.7057 - lr: 0.0010\n",
            "Epoch 82/100\n",
            "13/13 [==============================] - 1s 98ms/step - loss: 0.4888 - accuracy: 0.8631 - val_loss: 1.8704 - val_accuracy: 0.7292 - lr: 0.0010\n",
            "Epoch 83/100\n",
            "13/13 [==============================] - 1s 98ms/step - loss: 0.5216 - accuracy: 0.8562 - val_loss: 2.1374 - val_accuracy: 0.6875 - lr: 0.0010\n",
            "Epoch 84/100\n",
            "13/13 [==============================] - 1s 98ms/step - loss: 0.5347 - accuracy: 0.8530 - val_loss: 1.7940 - val_accuracy: 0.6901 - lr: 0.0010\n",
            "Epoch 85/100\n",
            "13/13 [==============================] - 1s 97ms/step - loss: 0.5650 - accuracy: 0.8405 - val_loss: 1.6136 - val_accuracy: 0.7005 - lr: 0.0010\n",
            "Epoch 86/100\n",
            "13/13 [==============================] - 1s 98ms/step - loss: 0.5208 - accuracy: 0.8518 - val_loss: 1.7744 - val_accuracy: 0.7292 - lr: 0.0010\n",
            "Epoch 87/100\n",
            "13/13 [==============================] - 1s 99ms/step - loss: 0.5111 - accuracy: 0.8568 - val_loss: 1.9658 - val_accuracy: 0.6953 - lr: 0.0010\n",
            "Epoch 88/100\n",
            "13/13 [==============================] - 1s 98ms/step - loss: 0.4860 - accuracy: 0.8612 - val_loss: 2.0566 - val_accuracy: 0.7109 - lr: 0.0010\n",
            "Epoch 89/100\n",
            "13/13 [==============================] - 1s 97ms/step - loss: 0.5002 - accuracy: 0.8593 - val_loss: 2.1561 - val_accuracy: 0.6849 - lr: 0.0010\n",
            "Epoch 90/100\n",
            "13/13 [==============================] - 1s 97ms/step - loss: 0.5115 - accuracy: 0.8574 - val_loss: 2.2932 - val_accuracy: 0.7005 - lr: 0.0010\n",
            "Epoch 91/100\n",
            "13/13 [==============================] - 1s 99ms/step - loss: 0.5056 - accuracy: 0.8675 - val_loss: 1.8650 - val_accuracy: 0.7135 - lr: 0.0010\n",
            "Epoch 92/100\n",
            "13/13 [==============================] - 1s 102ms/step - loss: 0.5098 - accuracy: 0.8624 - val_loss: 1.8074 - val_accuracy: 0.7135 - lr: 0.0010\n",
            "Epoch 93/100\n",
            "13/13 [==============================] - 1s 100ms/step - loss: 0.4831 - accuracy: 0.8649 - val_loss: 2.1070 - val_accuracy: 0.6849 - lr: 0.0010\n",
            "Epoch 94/100\n",
            "13/13 [==============================] - 1s 97ms/step - loss: 0.5061 - accuracy: 0.8612 - val_loss: 1.8954 - val_accuracy: 0.6875 - lr: 0.0010\n",
            "Epoch 95/100\n",
            "13/13 [==============================] - 1s 101ms/step - loss: 0.4843 - accuracy: 0.8618 - val_loss: 1.9030 - val_accuracy: 0.7161 - lr: 0.0010\n",
            "Epoch 96/100\n",
            "13/13 [==============================] - 1s 101ms/step - loss: 0.4868 - accuracy: 0.8662 - val_loss: 1.9247 - val_accuracy: 0.7188 - lr: 0.0010\n",
            "Epoch 97/100\n",
            "13/13 [==============================] - 1s 97ms/step - loss: 0.4990 - accuracy: 0.8612 - val_loss: 1.8061 - val_accuracy: 0.7422 - lr: 0.0010\n",
            "Epoch 98/100\n",
            "13/13 [==============================] - 1s 95ms/step - loss: 0.4987 - accuracy: 0.8606 - val_loss: 1.9685 - val_accuracy: 0.7240 - lr: 0.0010\n",
            "Epoch 99/100\n",
            "13/13 [==============================] - 1s 101ms/step - loss: 0.4935 - accuracy: 0.8606 - val_loss: 2.0918 - val_accuracy: 0.7083 - lr: 0.0010\n",
            "Epoch 100/100\n",
            "13/13 [==============================] - 1s 97ms/step - loss: 0.4787 - accuracy: 0.8675 - val_loss: 1.9133 - val_accuracy: 0.7266 - lr: 0.0010\n",
            "[INFO] Serializing network...\n"
          ]
        },
        {
          "name": "stderr",
          "output_type": "stream",
          "text": [
            "WARNING:absl:Found untraced functions such as _jit_compiled_convolution_op, _jit_compiled_convolution_op, _jit_compiled_convolution_op, _jit_compiled_convolution_op, _jit_compiled_convolution_op while saving (showing 5 of 5). These functions will not be directly callable after loading.\n"
          ]
        },
        {
          "name": "stdout",
          "output_type": "stream",
          "text": [
            "[INFO] Done!\n"
          ]
        }
      ],
      "source": [
        "# Train the network\n",
        "print(\"[INFO] Training network ...\")\n",
        "H = alexnet.fit_generator(\n",
        "    train_generator,\n",
        "    validation_data=val_generator,\n",
        "    steps_per_epoch=train_generator.samples // BATCH_SIZE,\n",
        "    validation_steps = val_generator.samples // BATCH_SIZE,\n",
        "    epochs=EPOCHS, verbose=1, callbacks=[reduce_lr])\n",
        "# save the model to disk\n",
        "print(\"[INFO] Serializing network...\")\n",
        "alexnet.save(MODEL_PATH + os.path.sep + \"trained_model\")\n",
        "print(\"[INFO] Done!\")"
      ]
    },
    {
      "cell_type": "code",
      "execution_count": 44,
      "metadata": {
        "colab": {
          "base_uri": "https://localhost:8080/",
          "height": 299
        },
        "id": "AtdEJ70WWSvL",
        "outputId": "bd466f32-335b-4693-f997-271318cc612b"
      },
      "outputs": [
        {
          "data": {
            "image/png": "[encoded data removed]",
            "text/plain": [
              "<Figure size 432x288 with 1 Axes>"
            ]
          },
          "metadata": {},
          "output_type": "display_data"
        }
      ],
      "source": [
        "import matplotlib.pyplot as plt\n",
        "# plot the training accuracy\n",
        "plt.style.use(\"ggplot\")\n",
        "plt.figure()\n",
        "N = EPOCHS\n",
        "plt.plot(np.arange(0, N), H.history[\"accuracy\"], label=\"train_acc\")\n",
        "plt.plot(np.arange(0, N), H.history[\"val_accuracy\"], label=\"val_acc\")\n",
        "plt.title(\"Training and validation Accuracy on Dataset\")\n",
        "plt.xlabel(\"Epoch #\")\n",
        "plt.ylabel(\"Accuracy\")\n",
        "plt.legend(loc=\"lower left\")\n",
        "plt.savefig(MODEL_PATH + os.path.sep + \"plot_acc.png\")"
      ]
    },
    {
      "cell_type": "code",
      "execution_count": 45,
      "metadata": {
        "colab": {
          "base_uri": "https://localhost:8080/",
          "height": 299
        },
        "id": "UwdOcDKOYvSX",
        "outputId": "39099ab3-c8f6-4657-fb6d-2372675b775b"
      },
      "outputs": [
        {
          "data": {
            "image/png": "[encoded data removed]",
            "text/plain": [
              "<Figure size 432x288 with 1 Axes>"
            ]
          },
          "metadata": {},
          "output_type": "display_data"
        }
      ],
      "source": [
        "# plot the training loss\n",
        "plt.style.use(\"ggplot\")\n",
        "plt.figure()\n",
        "N = EPOCHS\n",
        "plt.plot(np.arange(0, N), H.history[\"loss\"], label=\"train_loss\")\n",
        "plt.plot(np.arange(0, N), H.history[\"val_loss\"], label=\"val_loss\")\n",
        "plt.title(\"Training and Validation Loss on Dataset\")\n",
        "plt.xlabel(\"Epoch #\")\n",
        "plt.ylabel(\"Loss\")\n",
        "plt.legend(loc=\"lower left\")\n",
        "plt.savefig(MODEL_PATH + os.path.sep + \"plot_loss.png\")"
      ]
    },
    {
      "cell_type": "code",
      "execution_count": 48,
      "metadata": {
        "id": "PKY_o_RxWwaB"
      },
      "outputs": [],
      "source": [
        "# save the model\n",
        "# model.save('pashto_model.h5')"
      ]
    },
    {
      "cell_type": "code",
      "execution_count": null,
      "metadata": {
        "id": "ivTJKQ2ccYVq"
      },
      "outputs": [],
      "source": [
        "# labels = [\n",
        "#     '0','1','2','3','4','5','6','7','8','9','0',\n",
        "#     'alif','be','chay','daal','fay','gaaf','ghain','hay','haye','jim','kaaf','khay','khin','laam','mim','num',\n",
        "#     'nunr','pe','qaaf','raay','ray','se','shin','sin','swaad','te','Tey','tsay','tway','tzay','wao','yay','yay1','yay2','yay3',\n",
        "#     'yay4','zaal','zay','zhay','zhayghay','zwad','zway'\n",
        "#     ]"
      ]
    }
  ],
  "metadata": {
    "accelerator": "GPU",
    "colab": {
      "provenance": []
    },
    "gpuClass": "standard",
    "kernelspec": {
      "display_name": "Python 3",
      "name": "python3"
    },
    "language_info": {
      "name": "python"
    }
  },
  "nbformat": 4,
  "nbformat_minor": 0
}
